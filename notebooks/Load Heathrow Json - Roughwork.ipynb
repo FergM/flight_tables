{
 "cells": [
  {
   "cell_type": "code",
   "execution_count": null,
   "metadata": {},
   "outputs": [],
   "source": [
    "import sys; sys.path.insert(0,'..')"
   ]
  },
  {
   "cell_type": "code",
   "execution_count": null,
   "metadata": {},
   "outputs": [],
   "source": [
    "import datetime\n",
    "import glob\n",
    "import json\n",
    "import os\n",
    "\n",
    "import numpy as np\n",
    "import pandas as pd"
   ]
  },
  {
   "cell_type": "code",
   "execution_count": null,
   "metadata": {},
   "outputs": [],
   "source": [
    "from flight_tables.heathrow_parsing import extract_batch_heathrow\n",
    "from flight_tables.flight_parsing import ParsedFlights"
   ]
  },
  {
   "cell_type": "markdown",
   "metadata": {},
   "source": [
    "# Setup"
   ]
  },
  {
   "cell_type": "code",
   "execution_count": null,
   "metadata": {},
   "outputs": [],
   "source": [
    "file_pattern = '2020*Z.json' #'2020-01-29Z.json'\n",
    "root_dir = os.path.dirname(os.getcwd()) # parent of cwd\n",
    "data_dir = os.path.join(root_dir, 'data\\\\heathrow_data\\\\')\n",
    "path_pattern = os.path.join(data_dir, file_pattern)"
   ]
  },
  {
   "cell_type": "code",
   "execution_count": null,
   "metadata": {},
   "outputs": [],
   "source": [
    "# Files to Load\n",
    "files = glob.glob(path_pattern) # A List of file paths\n",
    "print(f\"{len(files)} files found\")"
   ]
  },
  {
   "cell_type": "markdown",
   "metadata": {},
   "source": [
    "# Load Batch"
   ]
  },
  {
   "cell_type": "code",
   "execution_count": null,
   "metadata": {},
   "outputs": [],
   "source": [
    "def file_to_df(path):\n",
    "    \"\"\"Load a Heathrow Flights JSON into a Dataframe.\n",
    "    \n",
    "    Parameters:\n",
    "        path (str): path of JSON file you want to load.\n",
    "    Returns: \n",
    "        heathrow_df (pd.DataFrame): Dataframe created after parsing the raw file.\n",
    "    \"\"\"    \n",
    "    with open(path, 'r') as f:\n",
    "        heathrow_raw_dict = json.load(f)\n",
    "\n",
    "    batch_info = extract_batch_heathrow(heathrow_raw_dict)\n",
    "\n",
    "    parsed_flights = ParsedFlights(batch_info)\n",
    "\n",
    "    heathrow_df = parsed_flights.to_dataframe()\n",
    "    \n",
    "    return heathrow_df"
   ]
  },
  {
   "cell_type": "code",
   "execution_count": null,
   "metadata": {},
   "outputs": [],
   "source": [
    "def batch_load_heathrow_json(file_paths):\n",
    "    \"\"\"Load a list of heathrow JSON files into a single DataFrame.\n",
    "    \n",
    "    Parameters (list): File path strings of the JSON files you want to load\n",
    "    Returns (pd.DataFrame): Single DataFrame with all the files you loaded.\n",
    "    \"\"\"\n",
    "    \n",
    "    \n",
    "    flight_dataframes = []\n",
    "\n",
    "    for file in files:\n",
    "        temp_df = file_to_df(file)\n",
    "        flight_dataframes.append(temp_df)\n",
    "\n",
    "    df = pd.concat(flight_dataframes)\n",
    "    \n",
    "    return df"
   ]
  },
  {
   "cell_type": "code",
   "execution_count": null,
   "metadata": {},
   "outputs": [],
   "source": [
    "# Takes some time if loading many files... (consider adding progress bar / or ask user before loading)\n",
    "#df = batch_load_heathrow_json(files)"
   ]
  },
  {
   "cell_type": "markdown",
   "metadata": {},
   "source": [
    "# Pickling\n",
    "After the first time you can save jsons as dataframe pickle and load from there."
   ]
  },
  {
   "cell_type": "code",
   "execution_count": null,
   "metadata": {},
   "outputs": [],
   "source": [
    "#pd.to_pickle(df, './all_flights.pkl') # Saves to cwd (Notebooks directory)"
   ]
  },
  {
   "cell_type": "code",
   "execution_count": null,
   "metadata": {},
   "outputs": [],
   "source": [
    "df = pd.read_pickle('all_flights.pkl')"
   ]
  },
  {
   "cell_type": "markdown",
   "metadata": {},
   "source": [
    "# Dataframe Preparation\n",
    "* Drop Duplicates\n",
    "* Drop Flights which are not the primary Flight ID"
   ]
  },
  {
   "cell_type": "code",
   "execution_count": null,
   "metadata": {},
   "outputs": [],
   "source": [
    "# Convert Delay Mins to Numeric\n",
    "## Was object because cancelled flights return None. Consider core code change.\n",
    "df.delay_mins = pd.to_numeric(df.delay_mins)"
   ]
  },
  {
   "cell_type": "code",
   "execution_count": null,
   "metadata": {},
   "outputs": [],
   "source": [
    "# Delete Duplicates\n",
    "df.drop_duplicates(inplace=True) "
   ]
  },
  {
   "cell_type": "code",
   "execution_count": null,
   "metadata": {},
   "outputs": [],
   "source": [
    "#Duplicate Analysis:\n",
    "#df.loc[df.duplicated()] # Show duplicates\n",
    "#df.loc[(df.delay_mins==16) & (df.flight_id=='BR068')] # Find specific Duplicates\n",
    "#assert df.duplicated().any()==False, \"Duplicated Entries found in Table.\""
   ]
  },
  {
   "cell_type": "code",
   "execution_count": null,
   "metadata": {},
   "outputs": [],
   "source": [
    "# Drop Alternative flight IDs\n",
    "df = df.loc[df.code_share != 'alt_code']"
   ]
  },
  {
   "cell_type": "markdown",
   "metadata": {},
   "source": [
    "### Validation"
   ]
  },
  {
   "cell_type": "code",
   "execution_count": null,
   "metadata": {},
   "outputs": [],
   "source": [
    "# Check number of dates matches number of files\n",
    "dates_count = len(df.scheduled_datetime.dt.date.unique())\n",
    "assert dates_count == len(files), \\\n",
    "    f\"Number of files doesn't match number of dates. \\n\\t You have {len(files)} files but data for {dates_count} dates.\""
   ]
  },
  {
   "cell_type": "markdown",
   "metadata": {},
   "source": [
    "# Analysis"
   ]
  },
  {
   "cell_type": "code",
   "execution_count": null,
   "metadata": {},
   "outputs": [],
   "source": [
    "# Filter out Cancelled\n",
    "departed_df = df.loc[df.status==\"Departed\"]"
   ]
  },
  {
   "cell_type": "code",
   "execution_count": null,
   "metadata": {},
   "outputs": [],
   "source": [
    "df = departed_df"
   ]
  },
  {
   "cell_type": "markdown",
   "metadata": {},
   "source": [
    "### Daily Departures"
   ]
  },
  {
   "cell_type": "code",
   "execution_count": null,
   "metadata": {},
   "outputs": [],
   "source": [
    "# Note Storm Ciara 9th Feb\n",
    "title = \"Heathrow Daily Departures\"\n",
    "xlabel = \"Date\"\n",
    "ylabel = \"Flights per Day\"\n",
    "ax = df.groupby([df['actual_datetime'].dt.date]).count().flight_id.plot(figsize=[18,5])\n",
    "ax.set(xlabel=xlabel,ylabel=ylabel,title=title);"
   ]
  },
  {
   "cell_type": "code",
   "execution_count": null,
   "metadata": {},
   "outputs": [],
   "source": [
    "# Note how 16th IT Failure gave Delay spike (but not departures)\n",
    "title = \"Heathrow Daily Median Delay\"\n",
    "xlabel = \"Date\"\n",
    "ylabel = \"Median Delay (mins)\"\n",
    "ax = df.delay_mins.groupby([df['actual_datetime'].dt.date]).median().plot(figsize=[18,5])\n",
    "ax.set(xlabel=xlabel,ylabel=ylabel,title=title);"
   ]
  },
  {
   "cell_type": "code",
   "execution_count": null,
   "metadata": {},
   "outputs": [],
   "source": [
    "# Note how 16th IT Failure gave Delay spike (but not departures)\n",
    "title = \"Heathrow Daily Average Delay\"\n",
    "xlabel = \"Date\"\n",
    "ylabel = \"Median Delay (mins)\"\n",
    "ax = df.delay_mins.groupby([df['actual_datetime'].dt.date]).mean().plot(figsize=[18,5])\n",
    "ax.set(xlabel=xlabel,ylabel=ylabel,title=title);"
   ]
  },
  {
   "cell_type": "code",
   "execution_count": null,
   "metadata": {},
   "outputs": [],
   "source": [
    "# Dublin Delay Average\n",
    "a = df.loc[df.destination=='DUB']\n",
    "a.groupby(a.scheduled_datetime.dt.date).mean().delay_mins.plot(figsize=[18,5])"
   ]
  },
  {
   "cell_type": "code",
   "execution_count": null,
   "metadata": {},
   "outputs": [],
   "source": [
    "# Wip plot dub & all mean delays by day\n",
    "# All Series\n",
    "all_sr = df.delay_mins.groupby([df['actual_datetime'].dt.date]).mean()\n",
    "# Dub sr\n",
    "a = df.loc[df.destination=='DUB']\n",
    "dub_sr = a.groupby(a.scheduled_datetime.dt.date).mean().delay_mins\n",
    "\n",
    "import matplotlib."
   ]
  },
  {
   "cell_type": "code",
   "execution_count": null,
   "metadata": {},
   "outputs": [],
   "source": [
    "# Dublin delay ave by id\n",
    "dub_df = df.loc[df.destination=='DUB']\n",
    "a = dub_df.groupby([dub_df.flight_id]).mean()"
   ]
  },
  {
   "cell_type": "code",
   "execution_count": null,
   "metadata": {},
   "outputs": [],
   "source": [
    "# Dublin ID Count"
   ]
  },
  {
   "cell_type": "code",
   "execution_count": null,
   "metadata": {},
   "outputs": [],
   "source": [
    "b = dub_df.groupby(dub_df.flight_id).count().iloc[:,0]"
   ]
  },
  {
   "cell_type": "code",
   "execution_count": null,
   "metadata": {},
   "outputs": [],
   "source": [
    "c = dub_df.scheduled_datetime.groupby(dub_df.flight_id).min()\n",
    "c = c.dt.time"
   ]
  },
  {
   "cell_type": "code",
   "execution_count": null,
   "metadata": {},
   "outputs": [],
   "source": [
    "delay_by_time = pd.concat([a, b, c], axis=1).sort_values(by='scheduled_datetime')\n",
    "#delay_by_time.reset_index()\n",
    "#delay_by_time.set_index('scheduled_datetime')\n",
    "delay_by_time"
   ]
  },
  {
   "cell_type": "code",
   "execution_count": null,
   "metadata": {},
   "outputs": [],
   "source": [
    "mid = 'EI165'\n",
    "df.loc[df.flight_id == mid]"
   ]
  },
  {
   "cell_type": "code",
   "execution_count": null,
   "metadata": {},
   "outputs": [],
   "source": [
    "a.sort_values(by='delay_mins', ascending=False)"
   ]
  },
  {
   "cell_type": "code",
   "execution_count": null,
   "metadata": {},
   "outputs": [],
   "source": [
    "df.loc[df.flight_id == 'BA828']"
   ]
  },
  {
   "cell_type": "code",
   "execution_count": null,
   "metadata": {},
   "outputs": [],
   "source": [
    "# By Destination\n",
    "* Frequency\n",
    "* Delay\n",
    "* Weekly Pattern (delay pattern)"
   ]
  },
  {
   "cell_type": "code",
   "execution_count": null,
   "metadata": {},
   "outputs": [],
   "source": [
    "# Country Mapping\n",
    "## Is this in the payload maybe?"
   ]
  },
  {
   "cell_type": "code",
   "execution_count": null,
   "metadata": {},
   "outputs": [],
   "source": [
    "df.destination.mode()"
   ]
  },
  {
   "cell_type": "code",
   "execution_count": null,
   "metadata": {},
   "outputs": [],
   "source": [
    "df.delay_mins.groupby(df[\"actual_datetime\"].dt.month).mode()"
   ]
  },
  {
   "cell_type": "code",
   "execution_count": null,
   "metadata": {},
   "outputs": [],
   "source": [
    "datetime.datetime.now().weekday()"
   ]
  },
  {
   "cell_type": "code",
   "execution_count": null,
   "metadata": {},
   "outputs": [],
   "source": [
    "df.scheduled_datetime.dt.dayofweek.unique()"
   ]
  },
  {
   "cell_type": "code",
   "execution_count": null,
   "metadata": {},
   "outputs": [],
   "source": [
    "fri_dub_df = df.loc[(df.scheduled_datetime.dt.dayofweek==4) & (df.destination=='DUB')]"
   ]
  },
  {
   "cell_type": "code",
   "execution_count": null,
   "metadata": {},
   "outputs": [],
   "source": [
    "fri_dub_df.flight_id.unique()"
   ]
  },
  {
   "cell_type": "code",
   "execution_count": null,
   "metadata": {},
   "outputs": [],
   "source": [
    "fri_dub_df.loc[fri_dub_df.flight_id == 'BA836'].delay_mins"
   ]
  },
  {
   "cell_type": "code",
   "execution_count": null,
   "metadata": {},
   "outputs": [],
   "source": [
    "fri_dub_df.loc[fri_dub_df.flight_id == 'EI151'].delay_mins"
   ]
  },
  {
   "cell_type": "code",
   "execution_count": null,
   "metadata": {},
   "outputs": [],
   "source": [
    "pd.tonumfri_dub_df.delay_mins."
   ]
  },
  {
   "cell_type": "markdown",
   "metadata": {},
   "source": [
    "# Delay By Time of Day"
   ]
  },
  {
   "cell_type": "code",
   "execution_count": null,
   "metadata": {},
   "outputs": [],
   "source": [
    "df.head()"
   ]
  },
  {
   "cell_type": "code",
   "execution_count": null,
   "metadata": {},
   "outputs": [],
   "source": [
    "df.groupby([df.scheduled_datetime.dt.hour]).mean().delay_mins.plot(figsize=[18,5])"
   ]
  },
  {
   "cell_type": "code",
   "execution_count": null,
   "metadata": {},
   "outputs": [],
   "source": [
    "df.groupby([df.scheduled_datetime.dt.time]).mean().delay_mins.plot(figsize=[18,5])"
   ]
  },
  {
   "cell_type": "code",
   "execution_count": null,
   "metadata": {},
   "outputs": [],
   "source": [
    "df.groupby([df.scheduled_datetime.dt.hour, df.scheduled_datetime.dt.minute]).mean().delay_mins.plot(figsize=[18,5])"
   ]
  },
  {
   "cell_type": "code",
   "execution_count": null,
   "metadata": {},
   "outputs": [],
   "source": [
    "z = df.groupby([df.scheduled_datetime.dt.hour, df.scheduled_datetime.dt.minute]).mean().delay_mins\n",
    "\n",
    "# Notice; an average Heathrow flight leaves > 20 mins late...\n",
    "z.loc[z>-200].plot(figsize=[18,5])"
   ]
  },
  {
   "cell_type": "code",
   "execution_count": null,
   "metadata": {},
   "outputs": [],
   "source": [
    "z.loc[:,:,]"
   ]
  },
  {
   "cell_type": "code",
   "execution_count": null,
   "metadata": {},
   "outputs": [],
   "source": [
    "df.groupby([df.scheduled_datetime.dt.hour]).mean().delay_mins.plot(figsize=[18,5])"
   ]
  },
  {
   "cell_type": "code",
   "execution_count": null,
   "metadata": {},
   "outputs": [],
   "source": [
    "df.groupby([df.scheduled_datetime.dt.time]).mean().delay_mins.plot(figsize=[18,5])"
   ]
  },
  {
   "cell_type": "code",
   "execution_count": null,
   "metadata": {},
   "outputs": [],
   "source": [
    "df.scheduled_datetime.dt.minute//30"
   ]
  },
  {
   "cell_type": "code",
   "execution_count": null,
   "metadata": {},
   "outputs": [],
   "source": [
    "df.delay_mins.min()"
   ]
  },
  {
   "cell_type": "code",
   "execution_count": null,
   "metadata": {},
   "outputs": [],
   "source": [
    "# Is this a bug in my logic?\n",
    "df.loc[df.delay_mins<-1000]"
   ]
  },
  {
   "attachments": {
    "image.png": {
     "image/png": "[encoded data removed]"
    }
   },
   "cell_type": "markdown",
   "metadata": {},
   "source": [
    "![image.png](attachment:image.png)"
   ]
  },
  {
   "cell_type": "code",
   "execution_count": null,
   "metadata": {},
   "outputs": [],
   "source": []
  }
 ],
 "metadata": {
  "kernelspec": {
   "display_name": "flight_env",
   "language": "python",
   "name": "flight_env"
  },
  "language_info": {
   "codemirror_mode": {
    "name": "ipython",
    "version": 3
   },
   "file_extension": ".py",
   "mimetype": "text/x-python",
   "name": "python",
   "nbconvert_exporter": "python",
   "pygments_lexer": "ipython3",
   "version": "3.8.3"
  },
  "widgets": {
   "application/vnd.jupyter.widget-state+json": {
    "state": {},
    "version_major": 2,
    "version_minor": 0
   }
  }
 },
 "nbformat": 4,
 "nbformat_minor": 4
}
